{
 "cells": [
  {
   "cell_type": "markdown",
   "metadata": {
    "collapsed": true,
    "pycharm": {
     "name": "#%% md\n"
    }
   },
   "source": [
    "### Task 1"
   ]
  },
  {
   "cell_type": "markdown",
   "source": [
    "$\n",
    "f(x) = \\frac{(Ax, x)}{2} - (b,x) + c\n",
    "$\n",
    "\n",
    "$\n",
    "\\nabla f = (\\nabla Ax, x) + (Ax, \\nabla x) - b\\nabla x = Ax - b = 0\n",
    "$\n",
    "\n",
    "Теперь надо показать что этот x - именно минимум. Для этого сделаем добавку к аргументу\n",
    "\n",
    "(Если нужно сброшу выкладки (они на бумаге))\n",
    "\n",
    "$\n",
    "f(x + \\delta) = ... = f(x) + \\frac{1}{2}(A \\delta, \\delta)\n",
    "$\n",
    "\n",
    "Тут важно что теперь можно следующее значение как\n",
    "\n",
    "$\n",
    "x^1 - x^0 = t_0(Ax - f)\n",
    "$\n",
    "\n",
    "При это важно, что \"прыжок\" в сторону градиента - является параметром\n",
    "Для удобства запишем $(Ax - f) = g^0$\n",
    "\n",
    "Теперь определим шаг\n",
    "$\n",
    "f(x^1) = f(x^0 + t_0 r^0) = \\frac{1}{2}(A(x^0 + t_0g^0), x^0 + t_0g^0) - (f, x^0 + t_0g^0) + C\n",
    "$\n",
    "\n",
    "$\n",
    "\\frac{df^1}{dt_0} = (Ax^0 - f, r^0) + t_0 (Ag^0, r^0) = 0\n",
    "$\n",
    "\n",
    "Таким образом можно определить шаг как:\n",
    "\n",
    "$\n",
    "\\frac{(r^0, r^0)}{(Ag^0, r^0)}\n",
    "$"
   ],
   "metadata": {
    "collapsed": false,
    "pycharm": {
     "name": "#%% md\n"
    }
   }
  },
  {
   "cell_type": "code",
   "execution_count": 15,
   "outputs": [
    {
     "data": {
      "text/plain": "<Figure size 640x480 with 1 Axes>",
      "image/png": "[encoded data removed]"
     },
     "metadata": {},
     "output_type": "display_data"
    }
   ],
   "source": [
    "import numpy as np\n",
    "import matplotlib.pyplot as plt\n",
    "\n",
    "A = np.array([[3, 2], [2, 6]])\n",
    "b = np.array([2, -8])\n",
    "x0 = np.random.randn(2)\n",
    "sol = np.linalg.inv(A) @ b\n",
    "\n",
    "f = lambda x, y: 3 * x**2 + 4*x*y + 6*y**2 - 2*x + 8*y\n",
    "def steepest_descent(A, b, steps):\n",
    "    path = np.zeros((steps+1, 2))\n",
    "    path[0,:] = x0\n",
    "    for i in range(1, steps+1):\n",
    "        rest = A.dot(path[i-1, :]) - b\n",
    "        step = rest.dot(rest) / rest.dot(A.dot(rest))\n",
    "        x = path[i-1, :] - step * rest\n",
    "        path[i, :] = x\n",
    "    return path\n",
    "\n",
    "path = steepest_descent(A, b, 20)\n",
    "X, Y = np.meshgrid(np.linspace(np.min(path[:, 0]) - 0.5, np.max(path[:, 0]) + 0.5, 20), np.linspace(np.min(path[:, 1]) - 0.5, np.max(path[:, 1]) + 0.5, 20))\n",
    "plt.contourf(X, Y, f(X, Y))\n",
    "plt.plot(path[:,0], path[:, 1], color = 'red', label='steps')\n",
    "plt.scatter(path[0, 0], path[0,1], label='x0', c='black')\n",
    "plt.scatter(sol[0],sol[1], label='minimum', c='white')\n",
    "plt.legend()\n",
    "plt.show()"
   ],
   "metadata": {
    "collapsed": false,
    "pycharm": {
     "name": "#%%\n"
    }
   }
  },
  {
   "cell_type": "markdown",
   "source": [
    "### Task 4"
   ],
   "metadata": {
    "collapsed": false,
    "pycharm": {
     "name": "#%% md\n"
    }
   }
  },
  {
   "cell_type": "code",
   "execution_count": 16,
   "outputs": [
    {
     "name": "stdout",
     "output_type": "stream",
     "text": [
      "NEED MEMORY: 20.0 GB\n",
      "have a chance to allocate matrix, but no chance to use linalg.solve\n"
     ]
    }
   ],
   "source": [
    "import pickle\n",
    "with open(\"data.pkl\", \"rb\") as input_file:\n",
    "    data = pickle.load(input_file)\n",
    "d, v, s, b = data['d'], data['v'], data['s'], data['b']\n",
    "print(\"NEED MEMORY:\", 50000 * 50000 * 8 / 10 ** 9, \"GB\")\n",
    "v1 = np.array(v[:, 0])\n",
    "v2 = np.array(v[:,1])\n",
    "d = np.array(d)\n",
    "\n",
    "# matrix_a = np.diag(d) + s[0]*v1 @ (v1.T) + s[1]*v2 @ (v2.T)\n",
    "print('have a chance to allocate matrix, but no chance to use linalg.solve')\n",
    "# np.linalg.solve(matrix_a, b)"
   ],
   "metadata": {
    "collapsed": false,
    "pycharm": {
     "name": "#%%\n"
    }
   }
  },
  {
   "cell_type": "code",
   "execution_count": 20,
   "outputs": [
    {
     "name": "stdout",
     "output_type": "stream",
     "text": [
      "0.08421154908696485\n"
     ]
    }
   ],
   "source": [
    "from scipy.sparse.linalg import LinearOperator, cg\n",
    "def prod(x):\n",
    "    v1_x = v1 @ x\n",
    "    v2_x = v2 @ x\n",
    "    return np.multiply(x, d) + s[0]*v1_x*v1 + s[1]*v2_x*v2\n",
    "operator = LinearOperator(shape=(50000,50000), matvec=prod)\n",
    "res = cg(operator,b, maxiter=1000) # Solving with Conjugate Gradient Method\n",
    "x = res[0]\n",
    "print(np.linalg.norm(operator.matvec(x)) / np.linalg.norm(x))"
   ],
   "metadata": {
    "collapsed": false,
    "pycharm": {
     "name": "#%%\n"
    }
   }
  }
 ],
 "metadata": {
  "kernelspec": {
   "display_name": "Python 3",
   "language": "python",
   "name": "python3"
  },
  "language_info": {
   "codemirror_mode": {
    "name": "ipython",
    "version": 2
   },
   "file_extension": ".py",
   "mimetype": "text/x-python",
   "name": "python",
   "nbconvert_exporter": "python",
   "pygments_lexer": "ipython2",
   "version": "2.7.6"
  }
 },
 "nbformat": 4,
 "nbformat_minor": 0
}