{
 "cells": [
  {
   "cell_type": "code",
   "execution_count": 1,
   "metadata": {
    "collapsed": true
   },
   "outputs": [],
   "source": [
    "import numba as nb\n",
    "import numpy as np"
   ]
  },
  {
   "cell_type": "markdown",
   "source": [
    "# Task 6"
   ],
   "metadata": {
    "collapsed": false,
    "pycharm": {
     "name": "#%% md\n"
    }
   }
  },
  {
   "cell_type": "code",
   "execution_count": 50,
   "outputs": [],
   "source": [
    "def task_handler(func):\n",
    "    def wrapper(number_n):\n",
    "        if not isinstance(number_n, int):\n",
    "            raise TypeError(\"Number n must me integer\")\n",
    "\n",
    "        if number_n < 1:\n",
    "            raise ValueError(\"Wrong number n\")\n",
    "\n",
    "        if number_n == 1:\n",
    "            return [0, 1]\n",
    "        elif number_n == 2:\n",
    "            return [0, 1, 1]\n",
    "        else:\n",
    "            return func(number_n)\n",
    "    return wrapper\n",
    "\n",
    "@task_handler\n",
    "def naive_numpy(number):\n",
    "    _tmp = np.zeros(number+1, int)\n",
    "    _tmp[1] = 1\n",
    "    _tmp[2] = 1\n",
    "    for i in range(3, number+1):\n",
    "        _tmp[i] = _tmp[_tmp[i-1]] + _tmp[i - _tmp[i-1]]\n",
    "    return _tmp\n",
    "\n",
    "@task_handler\n",
    "def list_realisation(number):\n",
    "    _tmp = [0]\n",
    "    _tmp.append(1)\n",
    "    _tmp.append(1)\n",
    "    for i in range(3, number+1):\n",
    "        _tmp.append(_tmp[_tmp[i-1]] + _tmp[i - _tmp[i-1]])\n",
    "    return np.array(_tmp)\n",
    "\n",
    "@task_handler\n",
    "@nb.njit()\n",
    "def numba_function(number):\n",
    "    _tmp = np.zeros(number+1, dtype=nb.types.int64)\n",
    "    _tmp[1] = 1\n",
    "    _tmp[2] = 1\n",
    "    for i in range(3, number+1):\n",
    "        _tmp[i] = _tmp[_tmp[i-1]] + _tmp[i - _tmp[i-1]]\n",
    "    return _tmp"
   ],
   "metadata": {
    "collapsed": false,
    "pycharm": {
     "name": "#%%\n"
    }
   }
  },
  {
   "cell_type": "code",
   "execution_count": 42,
   "outputs": [
    {
     "name": "stdout",
     "output_type": "stream",
     "text": [
      "67.3 ms ± 1.67 ms per loop (mean ± std. dev. of 7 runs, 10 loops each)\n"
     ]
    }
   ],
   "source": [
    "%%timeit\n",
    "naive_numpy(10**5)"
   ],
   "metadata": {
    "collapsed": false,
    "pycharm": {
     "name": "#%%\n"
    }
   }
  },
  {
   "cell_type": "code",
   "execution_count": 44,
   "outputs": [
    {
     "name": "stdout",
     "output_type": "stream",
     "text": [
      "28.1 ms ± 1.07 ms per loop (mean ± std. dev. of 7 runs, 10 loops each)\n"
     ]
    }
   ],
   "source": [
    "%%timeit\n",
    "list_realisation(10**5)"
   ],
   "metadata": {
    "collapsed": false,
    "pycharm": {
     "name": "#%%\n"
    }
   }
  },
  {
   "cell_type": "code",
   "execution_count": 51,
   "outputs": [
    {
     "name": "stdout",
     "output_type": "stream",
     "text": [
      "790 µs ± 208 µs per loop (mean ± std. dev. of 7 runs, 1 loop each)\n"
     ]
    }
   ],
   "source": [
    "%%timeit\n",
    "numba_function(10**5)"
   ],
   "metadata": {
    "collapsed": false,
    "pycharm": {
     "name": "#%%\n"
    }
   }
  },
  {
   "cell_type": "markdown",
   "source": [
    "# Result"
   ],
   "metadata": {
    "collapsed": false,
    "pycharm": {
     "name": "#%% md\n"
    }
   }
  },
  {
   "cell_type": "code",
   "execution_count": 52,
   "outputs": [
    {
     "data": {
      "text/plain": "52736107"
     },
     "execution_count": 52,
     "metadata": {},
     "output_type": "execute_result"
    }
   ],
   "source": [
    "numba_function(10**8)[-1]"
   ],
   "metadata": {
    "collapsed": false,
    "pycharm": {
     "name": "#%%\n"
    }
   }
  }
 ],
 "metadata": {
  "kernelspec": {
   "display_name": "Python 3",
   "language": "python",
   "name": "python3"
  },
  "language_info": {
   "codemirror_mode": {
    "name": "ipython",
    "version": 2
   },
   "file_extension": ".py",
   "mimetype": "text/x-python",
   "name": "python",
   "nbconvert_exporter": "python",
   "pygments_lexer": "ipython2",
   "version": "2.7.6"
  }
 },
 "nbformat": 4,
 "nbformat_minor": 0
}