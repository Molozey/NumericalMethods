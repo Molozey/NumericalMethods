{
 "cells": [
  {
   "cell_type": "code",
   "execution_count": 63,
   "metadata": {},
   "outputs": [],
   "source": [
    "import numpy as np\n",
    "import itertools\n",
    "from pprint import pprint\n",
    "from tqdm.notebook import tqdm\n",
    "import matplotlib.pylab as plt"
   ]
  },
  {
   "cell_type": "code",
   "execution_count": 2,
   "metadata": {},
   "outputs": [],
   "source": [
    "c = 3"
   ]
  },
  {
   "cell_type": "code",
   "execution_count": 3,
   "metadata": {},
   "outputs": [],
   "source": [
    "# Generate some data\n",
    "np.random.seed(42)\n",
    "lambda1 = np.random.normal(size=(c, c))\n",
    "lambda2 = np.random.normal(size=(c, c))\n",
    "lambda3 = np.random.normal(size=(c, c))\n",
    "G1 = np.random.normal(size=(c, c, c))\n",
    "G2 = np.random.normal(size=(c, c, c))\n",
    "U = np.random.normal(size=(c, c, c, c))"
   ]
  },
  {
   "cell_type": "code",
   "execution_count": 20,
   "metadata": {},
   "outputs": [],
   "source": [
    "def Z_naive(lambda1, lambda2, lambda3, G1, G2, U):\n",
    "    c = lambda1.shape[0]\n",
    "    Z = np.zeros(shape=(c, c, c, c))\n",
    "    for a, b, c, d, e, f, g, h, i, j in itertools.product(*([range(c)]*10)):\n",
    "        Z[a, h, i, j] += lambda1[a, b]*lambda2[d, e]*lambda3[g, h]*G1[c, b, d]*G2[f, e, g]*U[i, j, c, f]\n",
    "    return Z"
   ]
  },
  {
   "cell_type": "code",
   "execution_count": 21,
   "metadata": {},
   "outputs": [
    {
     "name": "stdout",
     "output_type": "stream",
     "text": [
      "104 ms ± 13.4 ms per loop (mean ± std. dev. of 7 runs, 10 loops each)\n"
     ]
    }
   ],
   "source": [
    "%%timeit\n",
    "Z = Z_naive(lambda1, lambda2, lambda3, G1, G2, U)"
   ]
  },
  {
   "cell_type": "code",
   "execution_count": 22,
   "metadata": {},
   "outputs": [],
   "source": [
    "Z = Z_naive(lambda1, lambda2, lambda3, G1, G2, U)"
   ]
  },
  {
   "cell_type": "code",
   "execution_count": 17,
   "outputs": [
    {
     "name": "stdout",
     "output_type": "stream",
     "text": [
      "431 µs ± 55.8 µs per loop (mean ± std. dev. of 7 runs, 1,000 loops each)\n"
     ]
    }
   ],
   "source": [
    "%%timeit\n",
    "Z=np.einsum('ab, cbd, de, feg, gh, ijcf -> ahij',\n",
    "            lambda1, G1, lambda2, G2, lambda3, U,\n",
    "            optimize= 'greedy')"
   ],
   "metadata": {
    "collapsed": false,
    "pycharm": {
     "name": "#%%\n"
    }
   }
  },
  {
   "cell_type": "code",
   "execution_count": 16,
   "outputs": [
    {
     "name": "stdout",
     "output_type": "stream",
     "text": [
      "('  Complete contraction:  ab,cbd,de,feg,gh,ijcf->ahij\\n'\n",
      " '         Naive scaling:  10\\n'\n",
      " '     Optimized scaling:  6\\n'\n",
      " '      Naive FLOP count:  3.543e+05\\n'\n",
      " '  Optimized FLOP count:  2.431e+03\\n'\n",
      " '   Theoretical speedup:  145.740\\n'\n",
      " '  Largest intermediate:  8.100e+01 elements\\n'\n",
      " '--------------------------------------------------------------------------\\n'\n",
      " 'scaling                  current                                remaining\\n'\n",
      " '--------------------------------------------------------------------------\\n'\n",
      " '   4                 cbd,ab->acd                 de,feg,gh,ijcf,acd->ahij\\n'\n",
      " '   4                 feg,de->dfg                    gh,ijcf,acd,dfg->ahij\\n'\n",
      " '   4                 dfg,gh->dfh                       ijcf,acd,dfh->ahij\\n'\n",
      " '   5               dfh,acd->acfh                          ijcf,acfh->ahij\\n'\n",
      " '   6             acfh,ijcf->ahij                               ahij->ahij')\n"
     ]
    }
   ],
   "source": [
    "pprint(np.einsum_path('ab, cbd, de, feg, gh, ijcf -> ahij',\n",
    "                         lambda1, G1, lambda2, G2, lambda3, U,\n",
    "                         optimize= 'greedy')[1])"
   ],
   "metadata": {
    "collapsed": false,
    "pycharm": {
     "name": "#%%\n"
    }
   }
  },
  {
   "cell_type": "code",
   "execution_count": 39,
   "outputs": [
    {
     "name": "stdout",
     "output_type": "stream",
     "text": [
      "Optimized result:    2.431e+03\n"
     ]
    }
   ],
   "source": [
    "_res = np.einsum_path('ab, cbd, de, feg, gh, ijcf -> ahij',\n",
    "                         lambda1, G1, lambda2, G2, lambda3, U,\n",
    "                         optimize= 'greedy')[1]\n",
    "print(\"Optimized result: \", list(filter(lambda x: 'Optimized FLOP count' in x ,_res.split('\\n')))[0].split(':')[-1])"
   ],
   "metadata": {
    "collapsed": false,
    "pycharm": {
     "name": "#%%\n"
    }
   }
  },
  {
   "cell_type": "markdown",
   "source": [
    "### Elementary functions"
   ],
   "metadata": {
    "collapsed": false,
    "pycharm": {
     "name": "#%% md\n"
    }
   }
  },
  {
   "cell_type": "code",
   "execution_count": 40,
   "outputs": [],
   "source": [
    "def _self_made(_lambda1=lambda1, _lambda2=lambda2, _lambda3=lambda3,\n",
    "      _G1=G1, _G2=G2, _U=U):\n",
    "    _d1 = np.tensordot(_lambda1, _G1, (1, 1)) # acd\n",
    "    _d2 = np.tensordot(_lambda2, _G2, (1, 1)) # dfg\n",
    "    _d3 = np.tensordot(_d2, _lambda3, 1) # dfh\n",
    "    _d4 = np.tensordot(_d1, _d3, 1) # acfh\n",
    "    _d5 = np.tensordot(_d4, _U, ((1, 2), (2, 3)))\n",
    "    return _d5\n",
    "\n",
    "assert np.isclose(_self_made(), Z).all()"
   ],
   "metadata": {
    "collapsed": false,
    "pycharm": {
     "name": "#%%\n"
    }
   }
  },
  {
   "cell_type": "code",
   "execution_count": 45,
   "outputs": [
    {
     "name": "stdout",
     "output_type": "stream",
     "text": [
      "96.5 µs ± 8.44 µs per loop (mean ± std. dev. of 7 runs, 10,000 loops each)\n"
     ]
    }
   ],
   "source": [
    "%%timeit\n",
    "_self_made()"
   ],
   "metadata": {
    "collapsed": false,
    "pycharm": {
     "name": "#%%\n"
    }
   }
  },
  {
   "cell_type": "code",
   "execution_count": 60,
   "outputs": [],
   "source": [
    "einsum = lambda _lambda1, _lambda2, _lambda3, _G1, _G2, _U: np.einsum('ab, cbd, de, feg, gh, ijcf -> ahij',\n",
    "            _lambda1, _G1, _lambda2, _G2, _lambda3, _U,\n",
    "            optimize= 'greedy')\n",
    "\n",
    "def speed_calculation(number):\n",
    "    np.random.seed(42)\n",
    "    check_lambda1 = np.random.normal(size=(number, number))\n",
    "    check_lambda2 = np.random.normal(size=(number, number))\n",
    "    check_lambda3 = np.random.normal(size=(number, number))\n",
    "    check_G1 = np.random.normal(size=(number, number, number))\n",
    "    check_G2 = np.random.normal(size=(number, number, number))\n",
    "    check_U = np.random.normal(size=(number, number, number, number))\n",
    "    self_time = %timeit -r2 -n 10 -o _self_made(check_lambda1, check_lambda2, check_lambda3, check_G1, check_G2, check_U)\n",
    "    # Ждать не хочется. Так что строчка закомментирована\n",
    "    # naive_time = %timeit -r2 -n 10 -o Z_naive(check_lambda1, check_lambda2, check_lambda3, check_G1, check_G2, check_U)\n",
    "    naive_time = 0\n",
    "    einsum_time = %timeit -r2 -n 10 -o einsum(check_lambda1, check_lambda2, check_lambda3, check_G1, check_G2, check_U)\n",
    "    return [number, naive_time, einsum_time, self_time]"
   ],
   "metadata": {
    "collapsed": false,
    "pycharm": {
     "name": "#%%\n"
    }
   }
  },
  {
   "cell_type": "code",
   "execution_count": 62,
   "outputs": [
    {
     "data": {
      "text/plain": "  0%|          | 0/47 [00:00<?, ?it/s]",
      "application/vnd.jupyter.widget-view+json": {
       "version_major": 2,
       "version_minor": 0,
       "model_id": "de3a7959496a424d86e85cb7f1b8b4fd"
      }
     },
     "metadata": {},
     "output_type": "display_data"
    },
    {
     "name": "stdout",
     "output_type": "stream",
     "text": [
      "199 µs ± 29.5 µs per loop (mean ± std. dev. of 2 runs, 10 loops each)\n",
      "886 µs ± 152 µs per loop (mean ± std. dev. of 2 runs, 10 loops each)\n",
      "241 µs ± 67.2 µs per loop (mean ± std. dev. of 2 runs, 10 loops each)\n",
      "855 µs ± 306 µs per loop (mean ± std. dev. of 2 runs, 10 loops each)\n",
      "190 µs ± 1.02 µs per loop (mean ± std. dev. of 2 runs, 10 loops each)\n",
      "369 µs ± 4.37 µs per loop (mean ± std. dev. of 2 runs, 10 loops each)\n",
      "107 µs ± 11.2 µs per loop (mean ± std. dev. of 2 runs, 10 loops each)\n",
      "416 µs ± 22.4 µs per loop (mean ± std. dev. of 2 runs, 10 loops each)\n",
      "165 µs ± 42.4 µs per loop (mean ± std. dev. of 2 runs, 10 loops each)\n",
      "399 µs ± 11.7 µs per loop (mean ± std. dev. of 2 runs, 10 loops each)\n",
      "132 µs ± 8.89 µs per loop (mean ± std. dev. of 2 runs, 10 loops each)\n",
      "384 µs ± 1.87 µs per loop (mean ± std. dev. of 2 runs, 10 loops each)\n",
      "185 µs ± 1.46 µs per loop (mean ± std. dev. of 2 runs, 10 loops each)\n",
      "473 µs ± 67.4 µs per loop (mean ± std. dev. of 2 runs, 10 loops each)\n",
      "176 µs ± 18.1 µs per loop (mean ± std. dev. of 2 runs, 10 loops each)\n",
      "420 µs ± 11.6 µs per loop (mean ± std. dev. of 2 runs, 10 loops each)\n",
      "222 µs ± 30.7 µs per loop (mean ± std. dev. of 2 runs, 10 loops each)\n",
      "486 µs ± 22.6 µs per loop (mean ± std. dev. of 2 runs, 10 loops each)\n",
      "385 µs ± 7.5 µs per loop (mean ± std. dev. of 2 runs, 10 loops each)\n",
      "733 µs ± 240 µs per loop (mean ± std. dev. of 2 runs, 10 loops each)\n",
      "406 µs ± 44 µs per loop (mean ± std. dev. of 2 runs, 10 loops each)\n",
      "658 µs ± 86.7 µs per loop (mean ± std. dev. of 2 runs, 10 loops each)\n",
      "610 µs ± 2.72 µs per loop (mean ± std. dev. of 2 runs, 10 loops each)\n",
      "1.08 ms ± 50.7 µs per loop (mean ± std. dev. of 2 runs, 10 loops each)\n",
      "1.02 ms ± 29.7 µs per loop (mean ± std. dev. of 2 runs, 10 loops each)\n",
      "1.26 ms ± 184 µs per loop (mean ± std. dev. of 2 runs, 10 loops each)\n",
      "734 µs ± 54.7 µs per loop (mean ± std. dev. of 2 runs, 10 loops each)\n",
      "1.11 ms ± 47.7 µs per loop (mean ± std. dev. of 2 runs, 10 loops each)\n",
      "1.57 ms ± 492 µs per loop (mean ± std. dev. of 2 runs, 10 loops each)\n",
      "1.76 ms ± 280 µs per loop (mean ± std. dev. of 2 runs, 10 loops each)\n",
      "1.87 ms ± 222 µs per loop (mean ± std. dev. of 2 runs, 10 loops each)\n",
      "2.23 ms ± 169 µs per loop (mean ± std. dev. of 2 runs, 10 loops each)\n",
      "2.42 ms ± 144 µs per loop (mean ± std. dev. of 2 runs, 10 loops each)\n",
      "2.72 ms ± 620 µs per loop (mean ± std. dev. of 2 runs, 10 loops each)\n",
      "2.31 ms ± 1.91 µs per loop (mean ± std. dev. of 2 runs, 10 loops each)\n",
      "3.44 ms ± 499 µs per loop (mean ± std. dev. of 2 runs, 10 loops each)\n",
      "3.47 ms ± 334 µs per loop (mean ± std. dev. of 2 runs, 10 loops each)\n",
      "3.86 ms ± 444 µs per loop (mean ± std. dev. of 2 runs, 10 loops each)\n",
      "4.11 ms ± 496 µs per loop (mean ± std. dev. of 2 runs, 10 loops each)\n",
      "4.21 ms ± 283 µs per loop (mean ± std. dev. of 2 runs, 10 loops each)\n",
      "7.78 ms ± 560 µs per loop (mean ± std. dev. of 2 runs, 10 loops each)\n",
      "6.62 ms ± 440 µs per loop (mean ± std. dev. of 2 runs, 10 loops each)\n",
      "9.33 ms ± 3.17 ms per loop (mean ± std. dev. of 2 runs, 10 loops each)\n",
      "7.14 ms ± 432 µs per loop (mean ± std. dev. of 2 runs, 10 loops each)\n",
      "15.7 ms ± 5.12 µs per loop (mean ± std. dev. of 2 runs, 10 loops each)\n",
      "16.2 ms ± 6.95 ms per loop (mean ± std. dev. of 2 runs, 10 loops each)\n",
      "14.9 ms ± 2.04 ms per loop (mean ± std. dev. of 2 runs, 10 loops each)\n",
      "14.9 ms ± 1.68 ms per loop (mean ± std. dev. of 2 runs, 10 loops each)\n",
      "17.1 ms ± 2 ms per loop (mean ± std. dev. of 2 runs, 10 loops each)\n",
      "16.7 ms ± 2.1 ms per loop (mean ± std. dev. of 2 runs, 10 loops each)\n",
      "19.2 ms ± 1.29 ms per loop (mean ± std. dev. of 2 runs, 10 loops each)\n",
      "21.9 ms ± 6.65 ms per loop (mean ± std. dev. of 2 runs, 10 loops each)\n",
      "21 ms ± 106 µs per loop (mean ± std. dev. of 2 runs, 10 loops each)\n",
      "22 ms ± 2.04 ms per loop (mean ± std. dev. of 2 runs, 10 loops each)\n",
      "23 ms ± 621 µs per loop (mean ± std. dev. of 2 runs, 10 loops each)\n",
      "24.9 ms ± 912 µs per loop (mean ± std. dev. of 2 runs, 10 loops each)\n",
      "30.7 ms ± 195 µs per loop (mean ± std. dev. of 2 runs, 10 loops each)\n",
      "30.2 ms ± 1.3 ms per loop (mean ± std. dev. of 2 runs, 10 loops each)\n",
      "35.8 ms ± 1.83 ms per loop (mean ± std. dev. of 2 runs, 10 loops each)\n",
      "37.1 ms ± 3.53 ms per loop (mean ± std. dev. of 2 runs, 10 loops each)\n",
      "41.5 ms ± 827 µs per loop (mean ± std. dev. of 2 runs, 10 loops each)\n",
      "40.1 ms ± 488 µs per loop (mean ± std. dev. of 2 runs, 10 loops each)\n",
      "48.2 ms ± 1.36 ms per loop (mean ± std. dev. of 2 runs, 10 loops each)\n",
      "49 ms ± 830 µs per loop (mean ± std. dev. of 2 runs, 10 loops each)\n",
      "58.1 ms ± 1.62 ms per loop (mean ± std. dev. of 2 runs, 10 loops each)\n",
      "56.7 ms ± 72.6 µs per loop (mean ± std. dev. of 2 runs, 10 loops each)\n",
      "70.2 ms ± 3.35 ms per loop (mean ± std. dev. of 2 runs, 10 loops each)\n",
      "73.6 ms ± 3.73 ms per loop (mean ± std. dev. of 2 runs, 10 loops each)\n",
      "94 ms ± 9.04 ms per loop (mean ± std. dev. of 2 runs, 10 loops each)\n",
      "85 ms ± 3.63 ms per loop (mean ± std. dev. of 2 runs, 10 loops each)\n",
      "90 ms ± 284 µs per loop (mean ± std. dev. of 2 runs, 10 loops each)\n",
      "121 ms ± 22.8 ms per loop (mean ± std. dev. of 2 runs, 10 loops each)\n",
      "218 ms ± 18.8 ms per loop (mean ± std. dev. of 2 runs, 10 loops each)\n",
      "201 ms ± 1.26 ms per loop (mean ± std. dev. of 2 runs, 10 loops each)\n",
      "179 ms ± 13.1 ms per loop (mean ± std. dev. of 2 runs, 10 loops each)\n",
      "214 ms ± 16.1 ms per loop (mean ± std. dev. of 2 runs, 10 loops each)\n",
      "323 ms ± 26 ms per loop (mean ± std. dev. of 2 runs, 10 loops each)\n",
      "205 ms ± 32.1 ms per loop (mean ± std. dev. of 2 runs, 10 loops each)\n",
      "312 ms ± 7.38 ms per loop (mean ± std. dev. of 2 runs, 10 loops each)\n",
      "230 ms ± 12 ms per loop (mean ± std. dev. of 2 runs, 10 loops each)\n",
      "292 ms ± 6.1 ms per loop (mean ± std. dev. of 2 runs, 10 loops each)\n",
      "214 ms ± 434 µs per loop (mean ± std. dev. of 2 runs, 10 loops each)\n",
      "327 ms ± 59.9 ms per loop (mean ± std. dev. of 2 runs, 10 loops each)\n",
      "328 ms ± 8.31 ms per loop (mean ± std. dev. of 2 runs, 10 loops each)\n",
      "354 ms ± 1.38 ms per loop (mean ± std. dev. of 2 runs, 10 loops each)\n",
      "337 ms ± 8.4 ms per loop (mean ± std. dev. of 2 runs, 10 loops each)\n",
      "425 ms ± 10.3 ms per loop (mean ± std. dev. of 2 runs, 10 loops each)\n",
      "531 ms ± 46.7 ms per loop (mean ± std. dev. of 2 runs, 10 loops each)\n",
      "498 ms ± 163 ms per loop (mean ± std. dev. of 2 runs, 10 loops each)\n",
      "362 ms ± 15.6 ms per loop (mean ± std. dev. of 2 runs, 10 loops each)\n",
      "410 ms ± 9.23 ms per loop (mean ± std. dev. of 2 runs, 10 loops each)\n",
      "420 ms ± 6.67 ms per loop (mean ± std. dev. of 2 runs, 10 loops each)\n",
      "420 ms ± 955 µs per loop (mean ± std. dev. of 2 runs, 10 loops each)\n",
      "423 ms ± 765 µs per loop (mean ± std. dev. of 2 runs, 10 loops each)\n"
     ]
    }
   ],
   "source": [
    "res = []\n",
    "for num in tqdm(range(3, 50)):\n",
    "    res.append(speed_calculation(num))"
   ],
   "metadata": {
    "collapsed": false,
    "pycharm": {
     "name": "#%%\n"
    }
   }
  },
  {
   "cell_type": "code",
   "execution_count": 72,
   "outputs": [
    {
     "data": {
      "text/plain": "<TimeitResult : 199 µs ± 29.5 µs per loop (mean ± std. dev. of 2 runs, 10 loops each)>"
     },
     "execution_count": 72,
     "metadata": {},
     "output_type": "execute_result"
    }
   ],
   "source": [
    "res[0][3]"
   ],
   "metadata": {
    "collapsed": false,
    "pycharm": {
     "name": "#%%\n"
    }
   }
  },
  {
   "cell_type": "code",
   "execution_count": 80,
   "outputs": [
    {
     "data": {
      "text/plain": "0.00016927419928833843"
     },
     "execution_count": 80,
     "metadata": {},
     "output_type": "execute_result"
    }
   ],
   "source": [
    "res[0][3].timings[1]"
   ],
   "metadata": {
    "collapsed": false,
    "pycharm": {
     "name": "#%%\n"
    }
   }
  },
  {
   "cell_type": "code",
   "execution_count": 81,
   "outputs": [
    {
     "data": {
      "text/plain": "<Figure size 800x600 with 1 Axes>",
      "image/png": "[encoded data removed]"
     },
     "metadata": {},
     "output_type": "display_data"
    }
   ],
   "source": [
    "plt.figure(figsize=(8, 6))\n",
    "plt.title(\"Speed Graph\")\n",
    "plt.plot([_[0] for _ in res], [_[1] for _ in res], label='Naive')\n",
    "plt.plot([_[0]for _ in res], [_[2].timings[0] for _ in res], label='Einsum')\n",
    "plt.plot([_[0]for _ in res], [_[3].timings[0] for _ in res], label='TensorDot')\n",
    "plt.legend(loc='upper left')\n",
    "plt.show()"
   ],
   "metadata": {
    "collapsed": false,
    "pycharm": {
     "name": "#%%\n"
    }
   }
  },
  {
   "cell_type": "code",
   "execution_count": 82,
   "outputs": [
    {
     "data": {
      "text/plain": "<Figure size 800x600 with 1 Axes>",
      "image/png": "[encoded data removed]"
     },
     "metadata": {},
     "output_type": "display_data"
    }
   ],
   "source": [
    "plt.figure(figsize=(8, 6))\n",
    "plt.title(\"Delta (Einsum - TensorDot) Speed Graph\")\n",
    "plt.plot([_[0]for _ in res], [_[2].timings[0] - _[3].timings[0] for _ in res], label='Einsum')\n",
    "plt.show()"
   ],
   "metadata": {
    "collapsed": false,
    "pycharm": {
     "name": "#%%\n"
    }
   }
  }
 ],
 "metadata": {
  "kernelspec": {
   "display_name": "Python 3",
   "language": "python",
   "name": "python3"
  },
  "language_info": {
   "codemirror_mode": {
    "name": "ipython",
    "version": 3
   },
   "file_extension": ".py",
   "mimetype": "text/x-python",
   "name": "python",
   "nbconvert_exporter": "python",
   "pygments_lexer": "ipython3",
   "version": "3.7.3"
  }
 },
 "nbformat": 4,
 "nbformat_minor": 2
}